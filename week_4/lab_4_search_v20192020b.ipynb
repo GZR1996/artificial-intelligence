{
 "cells": [
  {
   "cell_type": "markdown",
   "metadata": {
    "slideshow": {
     "slide_type": "slide"
    }
   },
   "source": [
    "---"
   ]
  },
  {
   "cell_type": "markdown",
   "metadata": {
    "slideshow": {
     "slide_type": "-"
    }
   },
   "source": [
    "# Artificial Intelligence - COMPSCI4004/5087 2019-2020"
   ]
  },
  {
   "cell_type": "markdown",
   "metadata": {
    "slideshow": {
     "slide_type": "-"
    }
   },
   "source": [
    "## Lab Week 4: Search <small><small><small>v20192020b</small></small></small>"
   ]
  },
  {
   "cell_type": "markdown",
   "metadata": {},
   "source": [
    "----"
   ]
  },
  {
   "cell_type": "markdown",
   "metadata": {},
   "source": [
    "**Aim**"
   ]
  },
  {
   "cell_type": "markdown",
   "metadata": {},
   "source": [
    "We will examine how a particular class of AI-problems can be solved using classical search techniques such as A-star. We will formulate a Maze-navigation problem as a graph-search problem in Python and use the `AIMA Toolbox` (https://github.com/aimacode/aima-python) to suggest a solution (i.e., a set of actions) which hopefully leads the agent from the initial state to the goal state. We will furthermore explore the limitations of A-star for general Maze-navigation problems. "
   ]
  },
  {
   "cell_type": "markdown",
   "metadata": {},
   "source": [
    "**Objectives:**\n",
    "* Formulate the agent function as an graph-search problem based on the PEAS analysis/characterization\n",
    "* Get hands-on experience with A* and heuristic functions\n",
    "* Appreciate the limitations of A-star for general navigation problems"
   ]
  },
  {
   "cell_type": "markdown",
   "metadata": {},
   "source": [
    "**Guide**:\n",
    "\n",
    "The notebook has two parts:\n",
    "   - Part I (Q4.0-Q4.3): Runs through the basics of A-star without you having to write a lot of code but you should be focused on   inspecting and understanding the problem and A-star algorithm.\n",
    "   - Part II (Q4.4): In the second part, we ask you to solve the Open AI Gym FrozenLake problem using A-star. This is an open-ended task and requires more programming from you.\n",
    "\n",
    "Each part contains specific tasks - often open-ended questions - that you'll need to carry out to make the notebook run or be able to undersatnd the next steps. These are indicated with:\n",
    "\n",
    "* <font color=dark-magenta>TASK:</font> This is a task for you to carry out before proceeding. \n",
    "* <font color=green>CHECKPOINTS:</font> This indicates a key point you should understand before proceeding. If you're in doubt then ask then consult the lab assistants.\n",
    "* A basic model solution (marked with <font color=red>SOLUTION</font>) will be provided a week after the Lab session.\n",
    "\n"
   ]
  },
  {
   "cell_type": "markdown",
   "metadata": {},
   "source": [
    "---\n",
    "### Q4.0 Prerequisites / housekeeping"
   ]
  },
  {
   "cell_type": "markdown",
   "metadata": {},
   "source": [
    "The notebook relies on the following software:\n",
    "- A Python 3.6+ environment and additional pacakges (see the imports in sec Q4.0 for specific requirements)\n",
    "- **AIMA Toolbox**:comes with the book (free) and contains off-the-shelf implementations of various search algorithms and many other relevant methods.Howver, we reocmmend you download a special as the github version is unstable and a few fixes have been made offline - you can download it from here: https://moodle.gla.ac.uk/mod/resource/view.php?id=1374098"
   ]
  },
  {
   "cell_type": "markdown",
   "metadata": {},
   "source": [
    "#### Q4.0.1 Import the basics"
   ]
  },
  {
   "cell_type": "markdown",
   "metadata": {},
   "source": [
    "* <font color=dark-magenta>TASK:</font> Run the follwing cell which loads the very basic Python modules and checks the environmental variables\n"
   ]
  },
  {
   "cell_type": "code",
   "execution_count": 64,
   "metadata": {
    "pycharm": {
     "is_executing": false
    }
   },
   "outputs": [
    {
     "name": "stdout",
     "output_type": "stream",
     "text": [
      "Working dir:D:\\project\\python\\artificial-intelligence\\week_4\n",
      "Python version:3.6.5 (v3.6.5:f59c0932b4, Mar 28 2018, 17:00:18) [MSC v.1900 64 bit (AMD64)]\n"
     ]
    }
   ],
   "source": [
    "# Check the very basics\n",
    "import os, sys\n",
    "print(\"Working dir:\"+os.getcwd())\n",
    "print(\"Python version:\"+sys.version)\n"
   ]
  },
  {
   "cell_type": "markdown",
   "metadata": {},
   "source": [
    "#### Q4.0.2 Import Python core modules"
   ]
  },
  {
   "cell_type": "markdown",
   "metadata": {},
   "source": [
    "* <font color=dark-magenta>TASK:</font> Run the following code to import core Python models\n"
   ]
  },
  {
   "cell_type": "code",
   "execution_count": 65,
   "metadata": {
    "pycharm": {
     "is_executing": false
    }
   },
   "outputs": [],
   "source": [
    "from copy import deepcopy \n",
    "%matplotlib inline\n",
    "import matplotlib.pyplot as plt\n",
    "from matplotlib import lines\n"
   ]
  },
  {
   "cell_type": "markdown",
   "metadata": {},
   "source": [
    "#### Q4.0.2 Import Python Network/Graph modules"
   ]
  },
  {
   "cell_type": "markdown",
   "metadata": {},
   "source": [
    "* <font color=dark-magenta>TASK:</font> Run the cell to import the graph module allowing you to work with graphs in Python:\n"
   ]
  },
  {
   "cell_type": "code",
   "execution_count": 66,
   "metadata": {
    "pycharm": {
     "is_executing": false
    }
   },
   "outputs": [
    {
     "name": "stdout",
     "output_type": "stream",
     "text": [
      "networkx version:2.3\n"
     ]
    }
   ],
   "source": [
    "import networkx as nx\n",
    "print(\"networkx version:\"+nx.__version__)\n"
   ]
  },
  {
   "cell_type": "markdown",
   "metadata": {},
   "source": [
    "#### Q4.0.2 Import Python visualization modules"
   ]
  },
  {
   "cell_type": "markdown",
   "metadata": {},
   "source": [
    "\n",
    "* <font color=dark-magenta>TASK:</font> Import modules which allows you to visualise the graphs and solutions. Note: You can skip this step if you fail installing the the `ipywidgets` Python package however you will not be able to interactively visualize the graphs and solutions. `ipywidgets`  is easy to install ia the Anaconda packagae but can be tricky to run on custom Python setups in which case we recommend skipping the step.\n"
   ]
  },
  {
   "cell_type": "code",
   "execution_count": 67,
   "metadata": {
    "pycharm": {
     "is_executing": false
    }
   },
   "outputs": [
    {
     "name": "stdout",
     "output_type": "stream",
     "text": [
      "ipywidgets version:7.5.0\n"
     ]
    }
   ],
   "source": [
    "from ipywidgets import interact\n",
    "import ipywidgets as widgets\n",
    "from IPython.display import display\n",
    "print(\"ipywidgets version:\" + widgets.__version__)\n"
   ]
  },
  {
   "cell_type": "markdown",
   "metadata": {},
   "source": [
    "#### Q4.0.2 Import the AIMA Toolbox\n"
   ]
  },
  {
   "cell_type": "markdown",
   "metadata": {},
   "source": [
    "\n",
    "* <font color=dark-magenta>TASK:</font> Download/pull the AIMA toolbox from https://moodle.gla.ac.uk/mod/resource/view.php?id=1374098\n",
    "\n",
    "* <font color=dark-magenta>TASK:</font> Import the AIMA toolbox into the search path. Remember to change the `AIMA_TOOLBOX_ROOT` variable to match the relevant folder on your system\n"
   ]
  },
  {
   "cell_type": "code",
   "execution_count": 68,
   "metadata": {
    "pycharm": {
     "is_executing": false
    }
   },
   "outputs": [],
   "source": [
    "# Add path the to the AIMA Python Toolbox folder on your system\n",
    "# WARNING: It is important that you use forward slash, even on Windows machines !\n",
    "\n",
    "AIMA_TOOLBOX_ROOT=\"D:/project/python/aima-python-uofg_v20192020b\"\n",
    "sys.path.append(AIMA_TOOLBOX_ROOT)\n"
   ]
  },
  {
   "cell_type": "markdown",
   "metadata": {},
   "source": [
    "* <font color=dark-magenta>TASK:</font>  Run the follwing code to import the search packe in the AIMA toolbox\n"
   ]
  },
  {
   "cell_type": "code",
   "execution_count": 69,
   "metadata": {
    "pycharm": {
     "is_executing": false
    }
   },
   "outputs": [],
   "source": [
    "from search import *\n",
    "from notebookutils import psource, heatmap, gaussian_kernel, show_map, final_path_colors, display_visual, plot_NQueens\n",
    "# Needed to hide warnings in the matplotlib sections\n",
    "import warnings\n",
    "warnings.filterwarnings(\"ignore\")\n"
   ]
  },
  {
   "cell_type": "markdown",
   "metadata": {},
   "source": [
    "... you should now be ready to solve a AI problem."
   ]
  },
  {
   "cell_type": "markdown",
   "metadata": {},
   "source": [
    "----"
   ]
  },
  {
   "cell_type": "markdown",
   "metadata": {},
   "source": [
    "### Q4.1 The Maze\n"
   ]
  },
  {
   "cell_type": "markdown",
   "metadata": {},
   "source": [
    "Figure 1 shows a Maze. You are now given the task to design an intelligent agent that plan a route from S (with coordinates (0,0)) to G (with coordinates (1,9) ).\n"
   ]
  },
  {
   "cell_type": "markdown",
   "metadata": {},
   "source": [
    "<img src=\"resources/maze.png\" width=40%>\n",
    "<center>Figure 1: A Maze</center>\n"
   ]
  },
  {
   "cell_type": "markdown",
   "metadata": {},
   "source": [
    "In the follwing, we will explore how to approach this problem and implement a reasonable solution in Pyhton.\n"
   ]
  },
  {
   "cell_type": "markdown",
   "metadata": {},
   "source": [
    "---\n"
   ]
  },
  {
   "cell_type": "markdown",
   "metadata": {},
   "source": [
    "#### Q4.1.1 Analysis"
   ]
  },
  {
   "cell_type": "markdown",
   "metadata": {},
   "source": [
    "- <font color=dark-magenta>TASK:</font> As always, analyse the problem and task environment using the PEAS framework. Note: you will need to make assumptions; make sure to state them:\n",
    "\n",
    "    - Performance measure\n",
    "        - As the designer of the Maze-solving agent, define a suitable performance measure?\n",
    "    - Environment\n",
    "        - Characterise the task environment along the dimensions outlined in AIMA Chapter 2 (lecture 1)?\n",
    "    - Actuators        \n",
    "        - Provide a list of actuators and possible actions ?\n",
    "    - Sensors\n",
    "        - Determine the percept available to the Maze-solving agent ?\n"
   ]
  },
  {
   "cell_type": "markdown",
   "metadata": {},
   "source": [
    "----\n"
   ]
  },
  {
   "cell_type": "markdown",
   "metadata": {},
   "source": [
    "#### Q4.1.2 Problem representation via graphs\n"
   ]
  },
  {
   "cell_type": "markdown",
   "metadata": {},
   "source": [
    "In this part we will build a graph representation of the state-space including the actions (similar to the Romania graph in lecture 3) __assuming__ it is discrete, fully observable, static, deterministic and known.\n"
   ]
  },
  {
   "cell_type": "markdown",
   "metadata": {},
   "source": [
    "##### Q4.1.2 (a) Define states and actions in a table\n"
   ]
  },
  {
   "cell_type": "markdown",
   "metadata": {},
   "source": [
    "- <font color=dark-magenta>TASK:</font>: Run the cells to define your state-space as a table Hint: the S state is (0,0) and the G state is (1.9) !). Double check that the code provided below is correct!\n",
    " - Hint: `S_08_00=dict(S_09_00=1,S_07_00=1)` means that we have a unique state \"S_08_00\" from which you can get to S_09_00 and S_07_00 with cost 1.\n"
   ]
  },
  {
   "cell_type": "code",
   "execution_count": 70,
   "metadata": {
    "pycharm": {
     "is_executing": false
    }
   },
   "outputs": [],
   "source": [
    "maze_map = UndirectedGraph(dict(\n",
    "    S_00_00=dict(S_01_00=1),\n",
    "    S_01_00=dict(S_01_01=1),\n",
    "    S_03_00=dict(S_04_00=1,S_03_01=1),\n",
    "    S_04_00=dict(S_03_00=1),\n",
    "    S_07_00=dict(S_08_00=1),\n",
    "    S_08_00=dict(S_09_00=1,S_07_00=1),\n",
    "    S_09_00=dict(S_08_00=1,S_09_01=1),\n",
    "    S_01_01=dict(S_01_00=1,S_02_01=1),\n",
    "    S_02_01=dict(S_01_01=1,S_03_01=1),\n",
    "    S_03_01=dict(S_03_00=1,S_03_02=1),\n",
    "    S_09_01=dict(S_09_00=1),\n",
    "    S_03_02=dict(S_03_01=1,S_04_02=1),\n",
    "    S_04_02=dict(S_03_02=1,S_05_02=1,S_04_03=1),\n",
    "    S_05_02=dict(S_04_02=1,S_05_03=1),\n",
    "    S_01_03=dict(S_01_04=1,S_02_03=1),\n",
    "    S_02_03=dict(S_01_03=1,S_02_04=1),\n",
    "    S_04_03=dict(S_04_02=1,S_05_03=1,S_04_04=1),\n",
    "    S_05_03=dict(S_05_02=1,S_06_03=1,S_04_03=1,S_05_04=1),\n",
    "    S_06_03=dict(S_05_03=1,S_06_04=1),\n",
    "    S_08_03=dict(S_08_04=1),\n",
    "    S_01_04=dict(S_01_03=1,S_02_04=1),\n",
    "    S_02_04=dict(S_01_04=1,S_02_05=1,S_02_03=1,S_03_04=1),\n",
    "    S_03_04=dict(S_03_05=1,S_02_04=1,S_04_04=1),\n",
    "    S_04_04=dict(S_04_03=1,S_03_04=1,S_05_04=1),\n",
    "    S_05_04=dict(S_04_04=1,S_05_05=1,S_06_04=1,S_05_03=1),\n",
    "    S_06_04=dict(S_06_03=1,S_07_04=1,S_05_04=1),\n",
    "    S_07_04=dict(S_06_04=1,S_07_05=1,S_08_04=1),\n",
    "    S_08_04=dict(S_07_04=1,S_08_03=1,S_08_05=1),\n",
    "    S_00_05=dict(S_00_06=1),\n",
    "    S_02_05=dict(S_02_06=1,S_02_04=1,S_03_05=1),\n",
    "    S_03_05=dict(S_02_05=1,S_03_04=1),\n",
    "    S_05_05=dict(S_05_04=1,S_05_06=1),\n",
    "    S_07_05=dict(S_08_05=1,S_07_04=1,S_07_06=1),\n",
    "    S_08_05=dict(S_09_05=1,S_07_05=1,S_08_04=1),\n",
    "    S_09_05=dict(S_09_06=1,S_08_05=1),\n",
    "    S_00_06=dict(S_00_07=1,S_00_05=1,S_01_06=1),\n",
    "    S_01_06=dict(S_00_06=1,S_01_07=1,S_02_06=1),\n",
    "    S_02_06=dict(S_02_07=1,S_02_05=1,S_01_06=1),\n",
    "    S_04_06=dict(S_05_06=1,S_04_07=1),\n",
    "    S_05_06=dict(S_04_06=1,S_06_06=1,S_05_05=1,S_05_07=1),\n",
    "    S_06_06=dict(S_07_06=1,S_06_07=1,S_05_06=1),\n",
    "    S_07_06=dict(S_06_06=1,S_07_05=1),\n",
    "    S_09_06=dict(S_09_05=1,S_09_07=1),\n",
    "    S_00_07=dict(S_00_08=1,S_01_07=1,S_00_06=1),\n",
    "    S_01_07=dict(S_00_07=1,S_02_07=1,S_01_08=1,S_01_06=1),\n",
    "    S_02_07=dict(S_01_07=1,S_03_07=1,S_02_06=1,S_02_08=1),\n",
    "    S_03_07=dict(S_04_07=1,S_02_07=1),\n",
    "    S_04_07=dict(S_03_07=1,S_05_07=1,S_04_08=1,S_04_06=1),\n",
    "    S_05_07=dict(S_04_07=1,S_06_07=1,S_05_08=1,S_05_06=1),\n",
    "    S_06_07=dict(S_06_06=1,S_06_08=1,S_05_07=1),\n",
    "    S_08_07=dict(S_09_07=1),\n",
    "    S_09_07=dict(S_08_07=1,S_09_06=1),\n",
    "    S_00_08=dict(S_00_09=1,S_01_08=1,S_00_07=1),\n",
    "    S_01_08=dict(S_00_08=1,S_02_08=1,S_01_09=1,S_01_07=1),\n",
    "    S_02_08=dict(S_02_09=1,S_02_07=1,S_01_08=1),\n",
    "    S_04_08=dict(S_04_09=1,S_05_08=1,S_04_07=1),\n",
    "    S_05_08=dict(S_04_08=1,S_06_08=1,S_05_09=1,S_05_07=1),\n",
    "    S_06_08=dict(S_07_08=1,S_06_07=1,S_05_08=1),\n",
    "    S_07_08=dict(S_07_09=1,S_06_08=1),\n",
    "    S_01_09=dict(S_01_08=1),\n",
    "    S_00_09=dict(S_01_09=1,S_00_08=1),\n",
    "    S_02_09=dict(S_01_09=1,S_02_08=1),\n",
    "    S_04_09=dict(S_04_08=1,S_05_09=1),\n",
    "    S_05_09=dict(S_05_08=1,S_04_09=1),\n",
    "    S_07_09=dict(S_07_08=1)))"
   ]
  },
  {
   "cell_type": "code",
   "execution_count": 71,
   "metadata": {
    "pycharm": {
     "is_executing": false
    }
   },
   "outputs": [],
   "source": [
    "maze_map.locations = dict(\n",
    "    S_00_00=(0,0),\n",
    "    S_01_00=(1,0),\n",
    "    S_03_00=(3,0),\n",
    "    S_04_00=(4,0),\n",
    "    S_07_00=(7,0),\n",
    "    S_08_00=(8,0),\n",
    "    S_09_00=(9,0),\n",
    "    S_01_01=(1,1),\n",
    "    S_02_01=(2,1),\n",
    "    S_03_01=(3,1),\n",
    "    S_09_01=(9,1),\n",
    "    S_03_02=(3,2),\n",
    "    S_04_02=(4,2),\n",
    "    S_05_02=(5,2),\n",
    "    S_01_03=(1,3),\n",
    "    S_02_03=(2,3),\n",
    "    S_04_03=(4,3),\n",
    "    S_05_03=(5,3),\n",
    "    S_06_03=(6,3),\n",
    "    S_08_03=(8,3),\n",
    "    S_01_04=(1,4),\n",
    "    S_02_04=(2,4),\n",
    "    S_03_04=(3,4),\n",
    "    S_04_04=(4,4),\n",
    "    S_05_04=(5,4),\n",
    "    S_06_04=(6,4),\n",
    "    S_07_04=(7,4),\n",
    "    S_08_04=(8,4),\n",
    "    S_00_05=(0,5),\n",
    "    S_02_05=(2,5),\n",
    "    S_03_05=(3,5),\n",
    "    S_05_05=(5,5),\n",
    "    S_07_05=(7,5),\n",
    "    S_08_05=(8,5),\n",
    "    S_09_05=(9,5),\n",
    "    S_00_06=(0,6),\n",
    "    S_01_06=(1,6),\n",
    "    S_02_06=(2,6),\n",
    "    S_04_06=(4,6),\n",
    "    S_05_06=(5,6),\n",
    "    S_06_06=(6,6),\n",
    "    S_07_06=(7,6),\n",
    "    S_09_06=(9,6),\n",
    "    S_00_07=(0,7),\n",
    "    S_01_07=(1,7),\n",
    "    S_02_07=(2,7),\n",
    "    S_03_07=(3,7),\n",
    "    S_04_07=(4,7),\n",
    "    S_05_07=(5,7),\n",
    "    S_06_07=(6,7),\n",
    "    S_08_07=(8,7),\n",
    "    S_09_07=(9,7),\n",
    "    S_00_08=(0,8),\n",
    "    S_01_08=(1,8),\n",
    "    S_02_08=(2,8),\n",
    "    S_04_08=(4,8),\n",
    "    S_05_08=(5,8),\n",
    "    S_06_08=(6,8),\n",
    "    S_07_08=(7,8),\n",
    "    S_00_09=(0,9),\n",
    "    S_01_09=(1,9),\n",
    "    S_02_09=(2,9),\n",
    "    S_04_09=(4,9),\n",
    "    S_05_09=(5,9),\n",
    "    S_07_09=(7,9))\n",
    "\n",
    "maze_map_locations = maze_map.locations\n"
   ]
  },
  {
   "cell_type": "code",
   "execution_count": 72,
   "metadata": {
    "pycharm": {
     "is_executing": false
    }
   },
   "outputs": [
    {
     "name": "stdout",
     "output_type": "stream",
     "text": [
      "----------------------------\n",
      "Unique states (i.e.locations) and possible actions in those states:\n",
      "\n",
      "{'S_00_00': (0, 0), 'S_01_00': (1, 0), 'S_03_00': (3, 0), 'S_04_00': (4, 0), 'S_07_00': (7, 0), 'S_08_00': (8, 0), 'S_09_00': (9, 0), 'S_01_01': (1, 1), 'S_02_01': (2, 1), 'S_03_01': (3, 1), 'S_09_01': (9, 1), 'S_03_02': (3, 2), 'S_04_02': (4, 2), 'S_05_02': (5, 2), 'S_01_03': (1, 3), 'S_02_03': (2, 3), 'S_04_03': (4, 3), 'S_05_03': (5, 3), 'S_06_03': (6, 3), 'S_08_03': (8, 3), 'S_01_04': (1, 4), 'S_02_04': (2, 4), 'S_03_04': (3, 4), 'S_04_04': (4, 4), 'S_05_04': (5, 4), 'S_06_04': (6, 4), 'S_07_04': (7, 4), 'S_08_04': (8, 4), 'S_00_05': (0, 5), 'S_02_05': (2, 5), 'S_03_05': (3, 5), 'S_05_05': (5, 5), 'S_07_05': (7, 5), 'S_08_05': (8, 5), 'S_09_05': (9, 5), 'S_00_06': (0, 6), 'S_01_06': (1, 6), 'S_02_06': (2, 6), 'S_04_06': (4, 6), 'S_05_06': (5, 6), 'S_06_06': (6, 6), 'S_07_06': (7, 6), 'S_09_06': (9, 6), 'S_00_07': (0, 7), 'S_01_07': (1, 7), 'S_02_07': (2, 7), 'S_03_07': (3, 7), 'S_04_07': (4, 7), 'S_05_07': (5, 7), 'S_06_07': (6, 7), 'S_08_07': (8, 7), 'S_09_07': (9, 7), 'S_00_08': (0, 8), 'S_01_08': (1, 8), 'S_02_08': (2, 8), 'S_04_08': (4, 8), 'S_05_08': (5, 8), 'S_06_08': (6, 8), 'S_07_08': (7, 8), 'S_00_09': (0, 9), 'S_01_09': (1, 9), 'S_02_09': (2, 9), 'S_04_09': (4, 9), 'S_05_09': (5, 9), 'S_07_09': (7, 9)}\n"
     ]
    }
   ],
   "source": [
    "print(\"----------------------------\") \n",
    "print(\"Unique states (i.e.locations) and possible actions in those states:\\n\") \n",
    "print(maze_map.locations) "
   ]
  },
  {
   "cell_type": "markdown",
   "metadata": {},
   "source": [
    "---"
   ]
  },
  {
   "cell_type": "markdown",
   "metadata": {},
   "source": [
    "##### Q4.1.2 (b) Create the graph object"
   ]
  },
  {
   "cell_type": "markdown",
   "metadata": {},
   "source": [
    "- <font color=dark-magenta>TASK:</font>: Execute the following cell to define a graph object based on the map and transition models defined in the previous question."
   ]
  },
  {
   "cell_type": "code",
   "execution_count": 73,
   "metadata": {},
   "outputs": [
    {
     "name": "stdout",
     "output_type": "stream",
     "text": [
      "Done creating the graph object\n"
     ]
    }
   ],
   "source": [
    "# node colors, node positions and node label positions\n",
    "node_colors = {node: 'white' for node in maze_map.locations.keys()}\n",
    "node_positions = maze_map.locations\n",
    "node_label_pos = { k:[v[0],v[1]-10]  for k,v in maze_map.locations.items() }\n",
    "edge_weights = {(k, k2) : v2 for k, v in maze_map.graph_dict.items() for k2, v2 in v.items()}\n",
    "\n",
    "maze_graph_data = {  'graph_dict' : maze_map.graph_dict,\n",
    "                        'node_colors': node_colors,\n",
    "                        'node_positions': node_positions,\n",
    "                        'node_label_positions': node_label_pos,\n",
    "                         'edge_weights': edge_weights\n",
    "                     }\n",
    "\n",
    "print(\"Done creating the graph object\")"
   ]
  },
  {
   "cell_type": "code",
   "execution_count": 74,
   "metadata": {},
   "outputs": [
    {
     "data": {
      "text/plain": [
       "{'graph_dict': {'S_00_00': {'S_01_00': 1},\n",
       "  'S_01_00': {'S_01_01': 1, 'S_00_00': 1},\n",
       "  'S_03_00': {'S_04_00': 1, 'S_03_01': 1},\n",
       "  'S_04_00': {'S_03_00': 1},\n",
       "  'S_07_00': {'S_08_00': 1},\n",
       "  'S_08_00': {'S_09_00': 1, 'S_07_00': 1},\n",
       "  'S_09_00': {'S_08_00': 1, 'S_09_01': 1},\n",
       "  'S_01_01': {'S_01_00': 1, 'S_02_01': 1},\n",
       "  'S_02_01': {'S_01_01': 1, 'S_03_01': 1},\n",
       "  'S_03_01': {'S_03_00': 1, 'S_03_02': 1, 'S_02_01': 1},\n",
       "  'S_09_01': {'S_09_00': 1},\n",
       "  'S_03_02': {'S_03_01': 1, 'S_04_02': 1},\n",
       "  'S_04_02': {'S_03_02': 1, 'S_05_02': 1, 'S_04_03': 1},\n",
       "  'S_05_02': {'S_04_02': 1, 'S_05_03': 1},\n",
       "  'S_01_03': {'S_01_04': 1, 'S_02_03': 1},\n",
       "  'S_02_03': {'S_01_03': 1, 'S_02_04': 1},\n",
       "  'S_04_03': {'S_04_02': 1, 'S_05_03': 1, 'S_04_04': 1},\n",
       "  'S_05_03': {'S_05_02': 1, 'S_06_03': 1, 'S_04_03': 1, 'S_05_04': 1},\n",
       "  'S_06_03': {'S_05_03': 1, 'S_06_04': 1},\n",
       "  'S_08_03': {'S_08_04': 1},\n",
       "  'S_01_04': {'S_01_03': 1, 'S_02_04': 1},\n",
       "  'S_02_04': {'S_01_04': 1, 'S_02_05': 1, 'S_02_03': 1, 'S_03_04': 1},\n",
       "  'S_03_04': {'S_03_05': 1, 'S_02_04': 1, 'S_04_04': 1},\n",
       "  'S_04_04': {'S_04_03': 1, 'S_03_04': 1, 'S_05_04': 1},\n",
       "  'S_05_04': {'S_04_04': 1, 'S_05_05': 1, 'S_06_04': 1, 'S_05_03': 1},\n",
       "  'S_06_04': {'S_06_03': 1, 'S_07_04': 1, 'S_05_04': 1},\n",
       "  'S_07_04': {'S_06_04': 1, 'S_07_05': 1, 'S_08_04': 1},\n",
       "  'S_08_04': {'S_07_04': 1, 'S_08_03': 1, 'S_08_05': 1},\n",
       "  'S_00_05': {'S_00_06': 1},\n",
       "  'S_02_05': {'S_02_06': 1, 'S_02_04': 1, 'S_03_05': 1},\n",
       "  'S_03_05': {'S_02_05': 1, 'S_03_04': 1},\n",
       "  'S_05_05': {'S_05_04': 1, 'S_05_06': 1},\n",
       "  'S_07_05': {'S_08_05': 1, 'S_07_04': 1, 'S_07_06': 1},\n",
       "  'S_08_05': {'S_09_05': 1, 'S_07_05': 1, 'S_08_04': 1},\n",
       "  'S_09_05': {'S_09_06': 1, 'S_08_05': 1},\n",
       "  'S_00_06': {'S_00_07': 1, 'S_00_05': 1, 'S_01_06': 1},\n",
       "  'S_01_06': {'S_00_06': 1, 'S_01_07': 1, 'S_02_06': 1},\n",
       "  'S_02_06': {'S_02_07': 1, 'S_02_05': 1, 'S_01_06': 1},\n",
       "  'S_04_06': {'S_05_06': 1, 'S_04_07': 1},\n",
       "  'S_05_06': {'S_04_06': 1, 'S_06_06': 1, 'S_05_05': 1, 'S_05_07': 1},\n",
       "  'S_06_06': {'S_07_06': 1, 'S_06_07': 1, 'S_05_06': 1},\n",
       "  'S_07_06': {'S_06_06': 1, 'S_07_05': 1},\n",
       "  'S_09_06': {'S_09_05': 1, 'S_09_07': 1},\n",
       "  'S_00_07': {'S_00_08': 1, 'S_01_07': 1, 'S_00_06': 1},\n",
       "  'S_01_07': {'S_00_07': 1, 'S_02_07': 1, 'S_01_08': 1, 'S_01_06': 1},\n",
       "  'S_02_07': {'S_01_07': 1, 'S_03_07': 1, 'S_02_06': 1, 'S_02_08': 1},\n",
       "  'S_03_07': {'S_04_07': 1, 'S_02_07': 1},\n",
       "  'S_04_07': {'S_03_07': 1, 'S_05_07': 1, 'S_04_08': 1, 'S_04_06': 1},\n",
       "  'S_05_07': {'S_04_07': 1, 'S_06_07': 1, 'S_05_08': 1, 'S_05_06': 1},\n",
       "  'S_06_07': {'S_06_06': 1, 'S_06_08': 1, 'S_05_07': 1},\n",
       "  'S_08_07': {'S_09_07': 1},\n",
       "  'S_09_07': {'S_08_07': 1, 'S_09_06': 1},\n",
       "  'S_00_08': {'S_00_09': 1, 'S_01_08': 1, 'S_00_07': 1},\n",
       "  'S_01_08': {'S_00_08': 1, 'S_02_08': 1, 'S_01_09': 1, 'S_01_07': 1},\n",
       "  'S_02_08': {'S_02_09': 1, 'S_02_07': 1, 'S_01_08': 1},\n",
       "  'S_04_08': {'S_04_09': 1, 'S_05_08': 1, 'S_04_07': 1},\n",
       "  'S_05_08': {'S_04_08': 1, 'S_06_08': 1, 'S_05_09': 1, 'S_05_07': 1},\n",
       "  'S_06_08': {'S_07_08': 1, 'S_06_07': 1, 'S_05_08': 1},\n",
       "  'S_07_08': {'S_07_09': 1, 'S_06_08': 1},\n",
       "  'S_01_09': {'S_01_08': 1, 'S_00_09': 1, 'S_02_09': 1},\n",
       "  'S_00_09': {'S_01_09': 1, 'S_00_08': 1},\n",
       "  'S_02_09': {'S_01_09': 1, 'S_02_08': 1},\n",
       "  'S_04_09': {'S_04_08': 1, 'S_05_09': 1},\n",
       "  'S_05_09': {'S_05_08': 1, 'S_04_09': 1},\n",
       "  'S_07_09': {'S_07_08': 1}},\n",
       " 'node_colors': {'S_00_00': 'white',\n",
       "  'S_01_00': 'white',\n",
       "  'S_03_00': 'white',\n",
       "  'S_04_00': 'white',\n",
       "  'S_07_00': 'white',\n",
       "  'S_08_00': 'white',\n",
       "  'S_09_00': 'white',\n",
       "  'S_01_01': 'white',\n",
       "  'S_02_01': 'white',\n",
       "  'S_03_01': 'white',\n",
       "  'S_09_01': 'white',\n",
       "  'S_03_02': 'white',\n",
       "  'S_04_02': 'white',\n",
       "  'S_05_02': 'white',\n",
       "  'S_01_03': 'white',\n",
       "  'S_02_03': 'white',\n",
       "  'S_04_03': 'white',\n",
       "  'S_05_03': 'white',\n",
       "  'S_06_03': 'white',\n",
       "  'S_08_03': 'white',\n",
       "  'S_01_04': 'white',\n",
       "  'S_02_04': 'white',\n",
       "  'S_03_04': 'white',\n",
       "  'S_04_04': 'white',\n",
       "  'S_05_04': 'white',\n",
       "  'S_06_04': 'white',\n",
       "  'S_07_04': 'white',\n",
       "  'S_08_04': 'white',\n",
       "  'S_00_05': 'white',\n",
       "  'S_02_05': 'white',\n",
       "  'S_03_05': 'white',\n",
       "  'S_05_05': 'white',\n",
       "  'S_07_05': 'white',\n",
       "  'S_08_05': 'white',\n",
       "  'S_09_05': 'white',\n",
       "  'S_00_06': 'white',\n",
       "  'S_01_06': 'white',\n",
       "  'S_02_06': 'white',\n",
       "  'S_04_06': 'white',\n",
       "  'S_05_06': 'white',\n",
       "  'S_06_06': 'white',\n",
       "  'S_07_06': 'white',\n",
       "  'S_09_06': 'white',\n",
       "  'S_00_07': 'white',\n",
       "  'S_01_07': 'white',\n",
       "  'S_02_07': 'white',\n",
       "  'S_03_07': 'white',\n",
       "  'S_04_07': 'white',\n",
       "  'S_05_07': 'white',\n",
       "  'S_06_07': 'white',\n",
       "  'S_08_07': 'white',\n",
       "  'S_09_07': 'white',\n",
       "  'S_00_08': 'white',\n",
       "  'S_01_08': 'white',\n",
       "  'S_02_08': 'white',\n",
       "  'S_04_08': 'white',\n",
       "  'S_05_08': 'white',\n",
       "  'S_06_08': 'white',\n",
       "  'S_07_08': 'white',\n",
       "  'S_00_09': 'white',\n",
       "  'S_01_09': 'white',\n",
       "  'S_02_09': 'white',\n",
       "  'S_04_09': 'white',\n",
       "  'S_05_09': 'white',\n",
       "  'S_07_09': 'white'},\n",
       " 'node_positions': {'S_00_00': (0, 0),\n",
       "  'S_01_00': (1, 0),\n",
       "  'S_03_00': (3, 0),\n",
       "  'S_04_00': (4, 0),\n",
       "  'S_07_00': (7, 0),\n",
       "  'S_08_00': (8, 0),\n",
       "  'S_09_00': (9, 0),\n",
       "  'S_01_01': (1, 1),\n",
       "  'S_02_01': (2, 1),\n",
       "  'S_03_01': (3, 1),\n",
       "  'S_09_01': (9, 1),\n",
       "  'S_03_02': (3, 2),\n",
       "  'S_04_02': (4, 2),\n",
       "  'S_05_02': (5, 2),\n",
       "  'S_01_03': (1, 3),\n",
       "  'S_02_03': (2, 3),\n",
       "  'S_04_03': (4, 3),\n",
       "  'S_05_03': (5, 3),\n",
       "  'S_06_03': (6, 3),\n",
       "  'S_08_03': (8, 3),\n",
       "  'S_01_04': (1, 4),\n",
       "  'S_02_04': (2, 4),\n",
       "  'S_03_04': (3, 4),\n",
       "  'S_04_04': (4, 4),\n",
       "  'S_05_04': (5, 4),\n",
       "  'S_06_04': (6, 4),\n",
       "  'S_07_04': (7, 4),\n",
       "  'S_08_04': (8, 4),\n",
       "  'S_00_05': (0, 5),\n",
       "  'S_02_05': (2, 5),\n",
       "  'S_03_05': (3, 5),\n",
       "  'S_05_05': (5, 5),\n",
       "  'S_07_05': (7, 5),\n",
       "  'S_08_05': (8, 5),\n",
       "  'S_09_05': (9, 5),\n",
       "  'S_00_06': (0, 6),\n",
       "  'S_01_06': (1, 6),\n",
       "  'S_02_06': (2, 6),\n",
       "  'S_04_06': (4, 6),\n",
       "  'S_05_06': (5, 6),\n",
       "  'S_06_06': (6, 6),\n",
       "  'S_07_06': (7, 6),\n",
       "  'S_09_06': (9, 6),\n",
       "  'S_00_07': (0, 7),\n",
       "  'S_01_07': (1, 7),\n",
       "  'S_02_07': (2, 7),\n",
       "  'S_03_07': (3, 7),\n",
       "  'S_04_07': (4, 7),\n",
       "  'S_05_07': (5, 7),\n",
       "  'S_06_07': (6, 7),\n",
       "  'S_08_07': (8, 7),\n",
       "  'S_09_07': (9, 7),\n",
       "  'S_00_08': (0, 8),\n",
       "  'S_01_08': (1, 8),\n",
       "  'S_02_08': (2, 8),\n",
       "  'S_04_08': (4, 8),\n",
       "  'S_05_08': (5, 8),\n",
       "  'S_06_08': (6, 8),\n",
       "  'S_07_08': (7, 8),\n",
       "  'S_00_09': (0, 9),\n",
       "  'S_01_09': (1, 9),\n",
       "  'S_02_09': (2, 9),\n",
       "  'S_04_09': (4, 9),\n",
       "  'S_05_09': (5, 9),\n",
       "  'S_07_09': (7, 9)},\n",
       " 'node_label_positions': {'S_00_00': [0, -10],\n",
       "  'S_01_00': [1, -10],\n",
       "  'S_03_00': [3, -10],\n",
       "  'S_04_00': [4, -10],\n",
       "  'S_07_00': [7, -10],\n",
       "  'S_08_00': [8, -10],\n",
       "  'S_09_00': [9, -10],\n",
       "  'S_01_01': [1, -9],\n",
       "  'S_02_01': [2, -9],\n",
       "  'S_03_01': [3, -9],\n",
       "  'S_09_01': [9, -9],\n",
       "  'S_03_02': [3, -8],\n",
       "  'S_04_02': [4, -8],\n",
       "  'S_05_02': [5, -8],\n",
       "  'S_01_03': [1, -7],\n",
       "  'S_02_03': [2, -7],\n",
       "  'S_04_03': [4, -7],\n",
       "  'S_05_03': [5, -7],\n",
       "  'S_06_03': [6, -7],\n",
       "  'S_08_03': [8, -7],\n",
       "  'S_01_04': [1, -6],\n",
       "  'S_02_04': [2, -6],\n",
       "  'S_03_04': [3, -6],\n",
       "  'S_04_04': [4, -6],\n",
       "  'S_05_04': [5, -6],\n",
       "  'S_06_04': [6, -6],\n",
       "  'S_07_04': [7, -6],\n",
       "  'S_08_04': [8, -6],\n",
       "  'S_00_05': [0, -5],\n",
       "  'S_02_05': [2, -5],\n",
       "  'S_03_05': [3, -5],\n",
       "  'S_05_05': [5, -5],\n",
       "  'S_07_05': [7, -5],\n",
       "  'S_08_05': [8, -5],\n",
       "  'S_09_05': [9, -5],\n",
       "  'S_00_06': [0, -4],\n",
       "  'S_01_06': [1, -4],\n",
       "  'S_02_06': [2, -4],\n",
       "  'S_04_06': [4, -4],\n",
       "  'S_05_06': [5, -4],\n",
       "  'S_06_06': [6, -4],\n",
       "  'S_07_06': [7, -4],\n",
       "  'S_09_06': [9, -4],\n",
       "  'S_00_07': [0, -3],\n",
       "  'S_01_07': [1, -3],\n",
       "  'S_02_07': [2, -3],\n",
       "  'S_03_07': [3, -3],\n",
       "  'S_04_07': [4, -3],\n",
       "  'S_05_07': [5, -3],\n",
       "  'S_06_07': [6, -3],\n",
       "  'S_08_07': [8, -3],\n",
       "  'S_09_07': [9, -3],\n",
       "  'S_00_08': [0, -2],\n",
       "  'S_01_08': [1, -2],\n",
       "  'S_02_08': [2, -2],\n",
       "  'S_04_08': [4, -2],\n",
       "  'S_05_08': [5, -2],\n",
       "  'S_06_08': [6, -2],\n",
       "  'S_07_08': [7, -2],\n",
       "  'S_00_09': [0, -1],\n",
       "  'S_01_09': [1, -1],\n",
       "  'S_02_09': [2, -1],\n",
       "  'S_04_09': [4, -1],\n",
       "  'S_05_09': [5, -1],\n",
       "  'S_07_09': [7, -1]},\n",
       " 'edge_weights': {('S_00_00', 'S_01_00'): 1,\n",
       "  ('S_01_00', 'S_01_01'): 1,\n",
       "  ('S_01_00', 'S_00_00'): 1,\n",
       "  ('S_03_00', 'S_04_00'): 1,\n",
       "  ('S_03_00', 'S_03_01'): 1,\n",
       "  ('S_04_00', 'S_03_00'): 1,\n",
       "  ('S_07_00', 'S_08_00'): 1,\n",
       "  ('S_08_00', 'S_09_00'): 1,\n",
       "  ('S_08_00', 'S_07_00'): 1,\n",
       "  ('S_09_00', 'S_08_00'): 1,\n",
       "  ('S_09_00', 'S_09_01'): 1,\n",
       "  ('S_01_01', 'S_01_00'): 1,\n",
       "  ('S_01_01', 'S_02_01'): 1,\n",
       "  ('S_02_01', 'S_01_01'): 1,\n",
       "  ('S_02_01', 'S_03_01'): 1,\n",
       "  ('S_03_01', 'S_03_00'): 1,\n",
       "  ('S_03_01', 'S_03_02'): 1,\n",
       "  ('S_03_01', 'S_02_01'): 1,\n",
       "  ('S_09_01', 'S_09_00'): 1,\n",
       "  ('S_03_02', 'S_03_01'): 1,\n",
       "  ('S_03_02', 'S_04_02'): 1,\n",
       "  ('S_04_02', 'S_03_02'): 1,\n",
       "  ('S_04_02', 'S_05_02'): 1,\n",
       "  ('S_04_02', 'S_04_03'): 1,\n",
       "  ('S_05_02', 'S_04_02'): 1,\n",
       "  ('S_05_02', 'S_05_03'): 1,\n",
       "  ('S_01_03', 'S_01_04'): 1,\n",
       "  ('S_01_03', 'S_02_03'): 1,\n",
       "  ('S_02_03', 'S_01_03'): 1,\n",
       "  ('S_02_03', 'S_02_04'): 1,\n",
       "  ('S_04_03', 'S_04_02'): 1,\n",
       "  ('S_04_03', 'S_05_03'): 1,\n",
       "  ('S_04_03', 'S_04_04'): 1,\n",
       "  ('S_05_03', 'S_05_02'): 1,\n",
       "  ('S_05_03', 'S_06_03'): 1,\n",
       "  ('S_05_03', 'S_04_03'): 1,\n",
       "  ('S_05_03', 'S_05_04'): 1,\n",
       "  ('S_06_03', 'S_05_03'): 1,\n",
       "  ('S_06_03', 'S_06_04'): 1,\n",
       "  ('S_08_03', 'S_08_04'): 1,\n",
       "  ('S_01_04', 'S_01_03'): 1,\n",
       "  ('S_01_04', 'S_02_04'): 1,\n",
       "  ('S_02_04', 'S_01_04'): 1,\n",
       "  ('S_02_04', 'S_02_05'): 1,\n",
       "  ('S_02_04', 'S_02_03'): 1,\n",
       "  ('S_02_04', 'S_03_04'): 1,\n",
       "  ('S_03_04', 'S_03_05'): 1,\n",
       "  ('S_03_04', 'S_02_04'): 1,\n",
       "  ('S_03_04', 'S_04_04'): 1,\n",
       "  ('S_04_04', 'S_04_03'): 1,\n",
       "  ('S_04_04', 'S_03_04'): 1,\n",
       "  ('S_04_04', 'S_05_04'): 1,\n",
       "  ('S_05_04', 'S_04_04'): 1,\n",
       "  ('S_05_04', 'S_05_05'): 1,\n",
       "  ('S_05_04', 'S_06_04'): 1,\n",
       "  ('S_05_04', 'S_05_03'): 1,\n",
       "  ('S_06_04', 'S_06_03'): 1,\n",
       "  ('S_06_04', 'S_07_04'): 1,\n",
       "  ('S_06_04', 'S_05_04'): 1,\n",
       "  ('S_07_04', 'S_06_04'): 1,\n",
       "  ('S_07_04', 'S_07_05'): 1,\n",
       "  ('S_07_04', 'S_08_04'): 1,\n",
       "  ('S_08_04', 'S_07_04'): 1,\n",
       "  ('S_08_04', 'S_08_03'): 1,\n",
       "  ('S_08_04', 'S_08_05'): 1,\n",
       "  ('S_00_05', 'S_00_06'): 1,\n",
       "  ('S_02_05', 'S_02_06'): 1,\n",
       "  ('S_02_05', 'S_02_04'): 1,\n",
       "  ('S_02_05', 'S_03_05'): 1,\n",
       "  ('S_03_05', 'S_02_05'): 1,\n",
       "  ('S_03_05', 'S_03_04'): 1,\n",
       "  ('S_05_05', 'S_05_04'): 1,\n",
       "  ('S_05_05', 'S_05_06'): 1,\n",
       "  ('S_07_05', 'S_08_05'): 1,\n",
       "  ('S_07_05', 'S_07_04'): 1,\n",
       "  ('S_07_05', 'S_07_06'): 1,\n",
       "  ('S_08_05', 'S_09_05'): 1,\n",
       "  ('S_08_05', 'S_07_05'): 1,\n",
       "  ('S_08_05', 'S_08_04'): 1,\n",
       "  ('S_09_05', 'S_09_06'): 1,\n",
       "  ('S_09_05', 'S_08_05'): 1,\n",
       "  ('S_00_06', 'S_00_07'): 1,\n",
       "  ('S_00_06', 'S_00_05'): 1,\n",
       "  ('S_00_06', 'S_01_06'): 1,\n",
       "  ('S_01_06', 'S_00_06'): 1,\n",
       "  ('S_01_06', 'S_01_07'): 1,\n",
       "  ('S_01_06', 'S_02_06'): 1,\n",
       "  ('S_02_06', 'S_02_07'): 1,\n",
       "  ('S_02_06', 'S_02_05'): 1,\n",
       "  ('S_02_06', 'S_01_06'): 1,\n",
       "  ('S_04_06', 'S_05_06'): 1,\n",
       "  ('S_04_06', 'S_04_07'): 1,\n",
       "  ('S_05_06', 'S_04_06'): 1,\n",
       "  ('S_05_06', 'S_06_06'): 1,\n",
       "  ('S_05_06', 'S_05_05'): 1,\n",
       "  ('S_05_06', 'S_05_07'): 1,\n",
       "  ('S_06_06', 'S_07_06'): 1,\n",
       "  ('S_06_06', 'S_06_07'): 1,\n",
       "  ('S_06_06', 'S_05_06'): 1,\n",
       "  ('S_07_06', 'S_06_06'): 1,\n",
       "  ('S_07_06', 'S_07_05'): 1,\n",
       "  ('S_09_06', 'S_09_05'): 1,\n",
       "  ('S_09_06', 'S_09_07'): 1,\n",
       "  ('S_00_07', 'S_00_08'): 1,\n",
       "  ('S_00_07', 'S_01_07'): 1,\n",
       "  ('S_00_07', 'S_00_06'): 1,\n",
       "  ('S_01_07', 'S_00_07'): 1,\n",
       "  ('S_01_07', 'S_02_07'): 1,\n",
       "  ('S_01_07', 'S_01_08'): 1,\n",
       "  ('S_01_07', 'S_01_06'): 1,\n",
       "  ('S_02_07', 'S_01_07'): 1,\n",
       "  ('S_02_07', 'S_03_07'): 1,\n",
       "  ('S_02_07', 'S_02_06'): 1,\n",
       "  ('S_02_07', 'S_02_08'): 1,\n",
       "  ('S_03_07', 'S_04_07'): 1,\n",
       "  ('S_03_07', 'S_02_07'): 1,\n",
       "  ('S_04_07', 'S_03_07'): 1,\n",
       "  ('S_04_07', 'S_05_07'): 1,\n",
       "  ('S_04_07', 'S_04_08'): 1,\n",
       "  ('S_04_07', 'S_04_06'): 1,\n",
       "  ('S_05_07', 'S_04_07'): 1,\n",
       "  ('S_05_07', 'S_06_07'): 1,\n",
       "  ('S_05_07', 'S_05_08'): 1,\n",
       "  ('S_05_07', 'S_05_06'): 1,\n",
       "  ('S_06_07', 'S_06_06'): 1,\n",
       "  ('S_06_07', 'S_06_08'): 1,\n",
       "  ('S_06_07', 'S_05_07'): 1,\n",
       "  ('S_08_07', 'S_09_07'): 1,\n",
       "  ('S_09_07', 'S_08_07'): 1,\n",
       "  ('S_09_07', 'S_09_06'): 1,\n",
       "  ('S_00_08', 'S_00_09'): 1,\n",
       "  ('S_00_08', 'S_01_08'): 1,\n",
       "  ('S_00_08', 'S_00_07'): 1,\n",
       "  ('S_01_08', 'S_00_08'): 1,\n",
       "  ('S_01_08', 'S_02_08'): 1,\n",
       "  ('S_01_08', 'S_01_09'): 1,\n",
       "  ('S_01_08', 'S_01_07'): 1,\n",
       "  ('S_02_08', 'S_02_09'): 1,\n",
       "  ('S_02_08', 'S_02_07'): 1,\n",
       "  ('S_02_08', 'S_01_08'): 1,\n",
       "  ('S_04_08', 'S_04_09'): 1,\n",
       "  ('S_04_08', 'S_05_08'): 1,\n",
       "  ('S_04_08', 'S_04_07'): 1,\n",
       "  ('S_05_08', 'S_04_08'): 1,\n",
       "  ('S_05_08', 'S_06_08'): 1,\n",
       "  ('S_05_08', 'S_05_09'): 1,\n",
       "  ('S_05_08', 'S_05_07'): 1,\n",
       "  ('S_06_08', 'S_07_08'): 1,\n",
       "  ('S_06_08', 'S_06_07'): 1,\n",
       "  ('S_06_08', 'S_05_08'): 1,\n",
       "  ('S_07_08', 'S_07_09'): 1,\n",
       "  ('S_07_08', 'S_06_08'): 1,\n",
       "  ('S_01_09', 'S_01_08'): 1,\n",
       "  ('S_01_09', 'S_00_09'): 1,\n",
       "  ('S_01_09', 'S_02_09'): 1,\n",
       "  ('S_00_09', 'S_01_09'): 1,\n",
       "  ('S_00_09', 'S_00_08'): 1,\n",
       "  ('S_02_09', 'S_01_09'): 1,\n",
       "  ('S_02_09', 'S_02_08'): 1,\n",
       "  ('S_04_09', 'S_04_08'): 1,\n",
       "  ('S_04_09', 'S_05_09'): 1,\n",
       "  ('S_05_09', 'S_05_08'): 1,\n",
       "  ('S_05_09', 'S_04_09'): 1,\n",
       "  ('S_07_09', 'S_07_08'): 1}}"
      ]
     },
     "execution_count": 74,
     "metadata": {},
     "output_type": "execute_result"
    }
   ],
   "source": [
    "maze_graph_data"
   ]
  },
  {
   "cell_type": "markdown",
   "metadata": {},
   "source": [
    "----"
   ]
  },
  {
   "cell_type": "markdown",
   "metadata": {},
   "source": [
    "##### Q4.1.2 (c) Visualise the graph"
   ]
  },
  {
   "cell_type": "markdown",
   "metadata": {},
   "source": [
    "- <font color=dark-magenta>TASK:</font>:  Execute the cells to visualize the graph and check that everything looks as expected:"
   ]
  },
  {
   "cell_type": "code",
   "execution_count": 75,
   "metadata": {},
   "outputs": [
    {
     "data": {
      "image/png": "[encoded data removed]",
      "text/plain": [
       "<Figure size 1296x936 with 1 Axes>"
      ]
     },
     "metadata": {},
     "output_type": "display_data"
    }
   ],
   "source": [
    "show_map(maze_graph_data)"
   ]
  },
  {
   "cell_type": "markdown",
   "metadata": {},
   "source": [
    "- <font color=dark-magenta>TASK:</font> Inspect the map and make sure you can map it to Figure 1. I.e. where is S_00_00 ?"
   ]
  },
  {
   "cell_type": "code",
   "execution_count": 76,
   "metadata": {},
   "outputs": [],
   "source": [
    "#%% md\n",
    "# at the leftmost and buttom of the graph"
   ]
  },
  {
   "cell_type": "markdown",
   "metadata": {},
   "source": [
    "----"
   ]
  },
  {
   "cell_type": "markdown",
   "metadata": {},
   "source": [
    "### Q4.2 Solving the graph problem"
   ]
  },
  {
   "cell_type": "markdown",
   "metadata": {},
   "source": [
    "Now that the graph/map has been completed in Q4.1.6 (c), we will try to use A-star to find a viable path."
   ]
  },
  {
   "cell_type": "markdown",
   "metadata": {},
   "source": [
    "#### Q4.2.1 Define the problem using the AIMA toolbox:"
   ]
  },
  {
   "cell_type": "markdown",
   "metadata": {},
   "source": [
    "Remember, we want to go from state S_00_00 to S_01_09:\n",
    "\n",
    "- <font color=dark-magenta>TASK:</font>: Run the follwing code to instantiate the problem\n"
   ]
  },
  {
   "cell_type": "code",
   "execution_count": 77,
   "metadata": {},
   "outputs": [
    {
     "name": "stdout",
     "output_type": "stream",
     "text": [
      "Initial state: S_00_00\n",
      "Goal state: S_01_09\n"
     ]
    }
   ],
   "source": [
    "maze_problem = GraphProblem('S_00_00', 'S_01_09', maze_map)\n",
    "\n",
    "print(\"Initial state: \" + maze_problem.initial)\n",
    "print(\"Goal state: \"    + maze_problem.goal)"
   ]
  },
  {
   "cell_type": "markdown",
   "metadata": {},
   "source": [
    "----"
   ]
  },
  {
   "cell_type": "markdown",
   "metadata": {},
   "source": [
    "#### Q4.2.2 (a) Define the A-star search function"
   ]
  },
  {
   "cell_type": "markdown",
   "metadata": {},
   "source": [
    "The cells below defines an implementation of A-star (utilizing a few helper functions from the AIMA toolbox). \n",
    "\n",
    "\n",
    "- <font color=dark-magenta>TASK:</font>\n",
    " - Inspect the source code for the `serach.py` (or the orginal source in https://github.com/aimacode/aima-python/blob/master/search.py ) and make sure you identify the main steps in the algorithm (e.g. compare to the description in AIMA). Compared to the orginal source, the modified A* function included below allows us to easily plot the solutions etc.\n",
    "\n",
    " - Execute the following cells to define the A-star search function \n",
    "\n",
    "- Hint: It is fine to just run these cell and more on and potentially inspect the code later!\n"
   ]
  },
  {
   "cell_type": "code",
   "execution_count": 78,
   "metadata": {},
   "outputs": [],
   "source": [
    "def my_best_first_graph_search_for_vis(problem, f):\n",
    "    \"\"\"Search the nodes with the lowest f scores first.\n",
    "    You specify the function f(node) that you want to minimize; for example,\n",
    "    if f is a heuristic estimate to the goal, then we have greedy best\n",
    "    first search; if f is node.depth then we have breadth-first search.\n",
    "    There is a subtlety: the line \"f = memoize(f, 'f')\" means that the f\n",
    "    values will be cached on the nodes as they are computed. So after doing\n",
    "    a best first search you can examine the f values of the path returned.\"\"\"\n",
    "    \n",
    "    # we use these two variables at the time of visualisations\n",
    "    iterations = 0\n",
    "    all_node_colors = []\n",
    "    node_colors = {k : 'white' for k in problem.graph.nodes()}\n",
    "    \n",
    "    f = memoize(f, 'f')\n",
    "    node = Node(problem.initial)\n",
    "    \n",
    "    node_colors[node.state] = \"red\"\n",
    "    iterations += 1\n",
    "    all_node_colors.append(dict(node_colors))\n",
    "    \n",
    "    if problem.goal_test(node.state):\n",
    "        node_colors[node.state] = \"green\"\n",
    "        iterations += 1\n",
    "        all_node_colors.append(dict(node_colors))\n",
    "        return(iterations, all_node_colors, node)\n",
    "    \n",
    "    frontier = PriorityQueue('min', f)\n",
    "    frontier.append(node)\n",
    "    \n",
    "    node_colors[node.state] = \"orange\"\n",
    "    iterations += 1\n",
    "    all_node_colors.append(dict(node_colors))\n",
    "    \n",
    "    explored = set()\n",
    "    while frontier:\n",
    "        node = frontier.pop()\n",
    "        \n",
    "        node_colors[node.state] = \"red\"\n",
    "        iterations += 1\n",
    "        all_node_colors.append(dict(node_colors))\n",
    "        \n",
    "        if problem.goal_test(node.state):\n",
    "            node_colors[node.state] = \"green\"\n",
    "            iterations += 1\n",
    "            all_node_colors.append(dict(node_colors))\n",
    "            return(iterations, all_node_colors, node)\n",
    "        \n",
    "        explored.add(node.state)\n",
    "        for child in node.expand(problem):\n",
    "            if child.state not in explored and child not in frontier:\n",
    "                frontier.append(child)\n",
    "                node_colors[child.state] = \"orange\"\n",
    "                iterations += 1\n",
    "                all_node_colors.append(dict(node_colors))\n",
    "            elif child in frontier:\n",
    "                incumbent = frontier[child]\n",
    "                if f(child) < f(incumbent):\n",
    "                    del frontier[incumbent]\n",
    "                    frontier.append(child)\n",
    "                    node_colors[child.state] = \"orange\"\n",
    "                    iterations += 1\n",
    "                    all_node_colors.append(dict(node_colors))\n",
    "\n",
    "        node_colors[node.state] = \"gray\"\n",
    "        iterations += 1\n",
    "        all_node_colors.append(dict(node_colors))\n",
    "    return None\n"
   ]
  },
  {
   "cell_type": "code",
   "execution_count": 79,
   "metadata": {},
   "outputs": [],
   "source": [
    "def my_astar_search_graph(problem, h=None):\n",
    "    \"\"\"A* search is best-first graph search with f(n) = g(n)+h(n).\n",
    "    You need to specify the h function when you call astar_search, or\n",
    "    else in your Problem subclass.\"\"\"\n",
    "    h = memoize(h or problem.h, 'h')\n",
    "    iterations, all_node_colors, node = my_best_first_graph_search_for_vis(problem, \n",
    "                                                                lambda n: n.path_cost + h(n))\n",
    "    return(iterations, all_node_colors, node)"
   ]
  },
  {
   "cell_type": "markdown",
   "metadata": {},
   "source": [
    "----"
   ]
  },
  {
   "cell_type": "markdown",
   "metadata": {},
   "source": [
    "#### Q4.2.4 Run the solver"
   ]
  },
  {
   "cell_type": "markdown",
   "metadata": {},
   "source": [
    "##### Q4.2.4 (a) Run the solver - simple trace"
   ]
  },
  {
   "cell_type": "markdown",
   "metadata": {},
   "source": [
    "The A* functions above is a generic implementation which can take different problems and heuristic functions.\n",
    "\n",
    "- <font color=dark-magenta>TASK:</font> Execute the follwing cell to run A-star on our particular maze problem and visualize the final solution. \n"
   ]
  },
  {
   "cell_type": "code",
   "execution_count": 80,
   "metadata": {},
   "outputs": [
    {
     "name": "stdout",
     "output_type": "stream",
     "text": [
      "----------------------------------------\n",
      "Identified goal state:<Node S_01_09>\n",
      "----------------------------------------\n",
      "Solution trace:[<Node S_01_09>, <Node S_01_08>, <Node S_02_08>, <Node S_02_07>, <Node S_02_06>, <Node S_02_05>, <Node S_03_05>, <Node S_03_04>, <Node S_04_04>, <Node S_04_03>, <Node S_04_02>, <Node S_03_02>, <Node S_03_01>, <Node S_02_01>, <Node S_01_01>, <Node S_01_00>, <Node S_00_00>]\n",
      "----------------------------------------\n"
     ]
    }
   ],
   "source": [
    "all_node_colors=[]\n",
    "iterations, all_node_colors, node = my_astar_search_graph(problem=maze_problem, h=None)\n",
    "\n",
    "#-- Trace the solution --#\n",
    "solution_path = [node]\n",
    "cnode = node.parent\n",
    "solution_path.append(cnode)\n",
    "while cnode.state != \"S_00_00\":    \n",
    "    cnode = cnode.parent  \n",
    "    solution_path.append(cnode)\n",
    "\n",
    "print(\"----------------------------------------\")\n",
    "print(\"Identified goal state:\"+str(solution_path[0]))\n",
    "print(\"----------------------------------------\")\n",
    "print(\"Solution trace:\"+str(solution_path))\n",
    "print(\"----------------------------------------\")\n"
   ]
  },
  {
   "cell_type": "markdown",
   "metadata": {},
   "source": [
    "- <font color=dark-magenta>TASK:</font> Identify the heuristic function used for the Maze problem (you'll need to inspect the code below, `search.py` and specifically the `GraphProblem` class) \n"
   ]
  },
  {
   "cell_type": "code",
   "execution_count": 81,
   "metadata": {},
   "outputs": [],
   "source": [
    "# heuristic function : \n",
    "# def h(self, node):\n",
    "#     \"\"\"h function is straight-line distance from a node's state to goal.\"\"\"\n",
    "#     locs = getattr(self.graph, 'locations', None)\n",
    "#     if locs:\n",
    "#         if type(node) is str:\n",
    "#             return int(distance(locs[node], locs[self.goal]))\n",
    "\n",
    "#         return int(distance(locs[node.state], locs[self.goal]))\n",
    "#     else:\n",
    "#         return infinity\n",
    "\n",
    "# cost_so_far + (self.graph.get(A, B) or infinity)"
   ]
  },
  {
   "cell_type": "markdown",
   "metadata": {},
   "source": [
    "----"
   ]
  },
  {
   "cell_type": "markdown",
   "metadata": {},
   "source": [
    "##### Q4.2.4 (b) Run the solver - full trace [optional]"
   ]
  },
  {
   "cell_type": "markdown",
   "metadata": {},
   "source": [
    "- You can obtain a full trace of the A-star solution by executing the follwing code with `do_full_visualization=True`. However, be aware that the visualisation is not rendered real-time and it will (typically) be presented as individual figures after the solution has been computed."
   ]
  },
  {
   "cell_type": "code",
   "execution_count": 82,
   "metadata": {},
   "outputs": [
    {
     "name": "stdout",
     "output_type": "stream",
     "text": [
      "::: Full Visualization ::::\n"
     ]
    },
    {
     "data": {
      "application/vnd.jupyter.widget-view+json": {
       "model_id": "f427162f5f7843cd8f80e18170b030cb",
       "version_major": 2,
       "version_minor": 0
      },
      "text/plain": [
       "interactive(children=(IntSlider(value=0, description='iteration', max=1), Output()), _dom_classes=('widget-int…"
      ]
     },
     "metadata": {},
     "output_type": "display_data"
    },
    {
     "data": {
      "application/vnd.jupyter.widget-view+json": {
       "model_id": "14a76c46154d4d0e82be18a1de162b06",
       "version_major": 2,
       "version_minor": 0
      },
      "text/plain": [
       "interactive(children=(ToggleButton(value=False, description='Visualize'), Output()), _dom_classes=('widget-int…"
      ]
     },
     "metadata": {},
     "output_type": "display_data"
    }
   ],
   "source": [
    "do_full_visualization = True\n",
    "if do_full_visualization:     \n",
    "    # WARNING the FULL visualisation might not work very well on some computers due to \n",
    "    # the large graph and the many iterations required.The visualisaiton will \n",
    "    # typically compute the solution and do the plotting at the end - and it often takes a long time ...\n",
    "    #\n",
    "    print(\"::: Full Visualization ::::\")\n",
    "    all_node_colors = []        \n",
    "    display_visual(maze_graph_data, user_input=False, \n",
    "               algorithm=my_astar_search_graph, \n",
    "               problem=maze_problem)"
   ]
  },
  {
   "cell_type": "markdown",
   "metadata": {},
   "source": [
    "----"
   ]
  },
  {
   "cell_type": "markdown",
   "metadata": {},
   "source": [
    "### Q4.3.2 Inspect the solution"
   ]
  },
  {
   "cell_type": "markdown",
   "metadata": {},
   "source": [
    "\n",
    "- <font color=dark-magenta>TASK:</font> Is the solution returned by the A-star optimal (hint: you may want to lookup the definition of an optimal solution in AIMA)? Is it supposed to be optimal given you knowledge of A-star and the applied heuristic?\n",
    "- <font color=dark-magenta>TASK:</font> How many optimal solutions are there for this problem ?\n",
    "- <font color=dark-magenta>TASK [optional]:</font> Dertermine how many nodes are explored with the current heuristic ?"
   ]
  },
  {
   "cell_type": "code",
   "execution_count": 83,
   "metadata": {},
   "outputs": [],
   "source": [
    "# Task 1: "
   ]
  },
  {
   "cell_type": "markdown",
   "metadata": {},
   "source": [
    "----"
   ]
  },
  {
   "cell_type": "markdown",
   "metadata": {},
   "source": [
    "### Q4.3.3 Heuristic function"
   ]
  },
  {
   "cell_type": "markdown",
   "metadata": {},
   "source": [
    "#### Q4.3.3 (a) Heuristic function I"
   ]
  },
  {
   "cell_type": "markdown",
   "metadata": {},
   "source": [
    "- <font color=dark-magenta>TASK:</font>  Modify the heuristic function currently used by A-star and set it to zero for all nodes [note: requires you to insert and/or modify code for example by writing a new h function in this notebook and parse it to my_astar_search_grapgh in Q4.2.4 ]\n",
    "- <font color=dark-magenta>TASK:</font>  Rerun the A-star solver and inspect the solution - determine if and how the heuristic function has changed the solution (i.e. is it still a valid solution, is it optimal, etc)? How many nodes did it explore ?\n",
    "- <font color=dark-magenta>TASK:</font>  A-star with $h(n)=0\\,\\forall n$ corresponds to a basic search method - which one (breadth first search, depth first search, uniform cost search, hill-climbing, etc) ?"
   ]
  },
  {
   "cell_type": "markdown",
   "metadata": {},
   "source": [
    "---"
   ]
  },
  {
   "cell_type": "markdown",
   "metadata": {},
   "source": [
    "#### Q4.3.3 (b) Heuristic function II [optional]"
   ]
  },
  {
   "cell_type": "markdown",
   "metadata": {},
   "source": [
    "- <font color=dark-magenta>TASK:</font>  Change the heuristic function currently used by A-star into a inconsistent heuristic (i.e. you may want to look up the definition of a consistent heuristic in AIMA) [note: require you to insert/modify code]\n",
    "- <font color=dark-magenta>TASK:</font>  Rerun the A-star solver. Determine if and how the heuristic function has changed the solution (i.e. is it still a valid solution, is it optimal, etc)?"
   ]
  },
  {
   "cell_type": "markdown",
   "metadata": {},
   "source": [
    "----"
   ]
  },
  {
   "cell_type": "markdown",
   "metadata": {},
   "source": [
    "### Q4.4 Open AI Gym [open-ended challange]\n",
    "Hint: It will probably take an average student 1h to solve this part. "
   ]
  },
  {
   "cell_type": "markdown",
   "metadata": {},
   "source": [
    "**Introduction**: Recall the Open AI Gym FrozenLake problem in Week 2 ? \n",
    "We will try to solve the maze problem but this time make sure that it is a deterministic environment (a key assumption for A-star to work)."
   ]
  },
  {
   "cell_type": "markdown",
   "metadata": {},
   "source": [
    "- <font color=dark-magenta>TASK:</font> Solve the 'FrozenLake8x8-v0' problem using A-star with the default heuristic function assuming . You may find the code snippets and helper funciton included below usefull. "
   ]
  },
  {
   "cell_type": "code",
   "execution_count": 84,
   "metadata": {},
   "outputs": [
    {
     "name": "stdout",
     "output_type": "stream",
     "text": [
      "\n",
      "\u001b[41mS\u001b[0mFFFFFFF\n",
      "FFFFFFFF\n",
      "FFFHFFFF\n",
      "FFFFFHFF\n",
      "FFFHFFFF\n",
      "FHHFFFHF\n",
      "FHFFHFHF\n",
      "FFFHFFFG\n"
     ]
    }
   ],
   "source": [
    "import gym\n",
    "env = gym.make('FrozenLake8x8-v0',is_slippery=False)\n",
    "env.render()"
   ]
  },
  {
   "cell_type": "code",
   "execution_count": 107,
   "metadata": {},
   "outputs": [],
   "source": [
    "def env2statespace(env):\n",
    "    \"\"\" \n",
    "    This simple parser demonstrates how you can extract the state space from the Open AI env\n",
    "\n",
    "    We *assume* full observability, i.e., we can directly ignore Hole states. Alternatively, \n",
    "    we could place a very high step cost to a Hole state or use a directed representation \n",
    "    (i.e., you can go to a Hole state but never return). Feel free to experiment with both if time permits.\n",
    "\n",
    "    Input:\n",
    "        env: an Open AI Env follwing the std in the FrozenLake-v0 env\n",
    "\n",
    "    Output:\n",
    "        state_space_locations : a dict with the available states\n",
    "        state_space_actions   : a dict of dict with available actions in each state\n",
    "        state_start_id        : the start state\n",
    "        state_goal_id         : the goal state  \n",
    "\n",
    "        These objects are enough to define a Graph problem using the AIMA toolbox, e.g., using  \n",
    "        UndirectedGraph, GraphProblem and astar_search (as in AI (H) Lab 3)\n",
    "\n",
    "    Notice: the implementation is very explicit to demonstarte all the steps (it could be made more elegant!)\n",
    "    \n",
    "    bjorn.jensen@glasgow.ac.uk\n",
    "    \n",
    "    \"\"\"\n",
    "    state_space_locations = {} # create a dict\n",
    "    for i in range(env.desc.shape[0]):\n",
    "        for j in range(env.desc.shape[1]):   \n",
    "            if not (b'H' in env.desc[i,j]):\n",
    "                state_id = \"S_\"+str(int(i))+\"_\"+str(int(j) )\n",
    "                state_space_locations[state_id] = (int(i),int(j))\n",
    "                if env.desc[i,j] == b'S':\n",
    "                    state_initial_id = state_id                                                 \n",
    "                elif env.desc[i,j] == b'G':\n",
    "                    state_goal_id = state_id                      \n",
    "\n",
    "                #-- Generate state / action list --#\n",
    "                # First define the set of actions in the defined coordinate system             \n",
    "                actions = {\"west\": [-1,0],\"east\": [+1,0],\"north\": [0,+1], \"south\": [0,-1]}\n",
    "                state_space_actions = {}\n",
    "                for state_id in state_space_locations:                                       \n",
    "                    possible_states = {}\n",
    "                    for action in actions:\n",
    "                        #-- Check if a specific action is possible --#\n",
    "                        delta = actions.get(action)\n",
    "                        state_loc = state_space_locations.get(state_id)\n",
    "                        state_loc_post_action = [state_loc[0]+delta[0],state_loc[1]+delta[1]]\n",
    "\n",
    "                        #-- Check if the new possible state is in the state_space, i.e., is accessible --#\n",
    "                        state_id_post_action = \"S_\"+str(state_loc_post_action[0])+\"_\"+str(state_loc_post_action[1])                        \n",
    "                        if state_space_locations.get(state_id_post_action) != None:\n",
    "                            possible_states[state_id_post_action] = 1 \n",
    "                        \n",
    "                    #-- Add the possible actions for this state to the global dict --#                              \n",
    "                    state_space_actions[state_id] = possible_states\n",
    "\n",
    "    return state_space_locations, state_space_actions, state_initial_id, state_goal_id"
   ]
  },
  {
   "cell_type": "code",
   "execution_count": 108,
   "metadata": {},
   "outputs": [],
   "source": [
    "# Create a dict representation of the state space\n",
    "state_space_locations, state_space_actions, state_initial_id, state_goal_id = env2statespace(env)"
   ]
  },
  {
   "cell_type": "code",
   "execution_count": 109,
   "metadata": {},
   "outputs": [
    {
     "data": {
      "text/plain": [
       "({'S_0_0': (0, 0),\n",
       "  'S_0_1': (0, 1),\n",
       "  'S_0_2': (0, 2),\n",
       "  'S_0_3': (0, 3),\n",
       "  'S_0_4': (0, 4),\n",
       "  'S_0_5': (0, 5),\n",
       "  'S_0_6': (0, 6),\n",
       "  'S_0_7': (0, 7),\n",
       "  'S_1_0': (1, 0),\n",
       "  'S_1_1': (1, 1),\n",
       "  'S_1_2': (1, 2),\n",
       "  'S_1_3': (1, 3),\n",
       "  'S_1_4': (1, 4),\n",
       "  'S_1_5': (1, 5),\n",
       "  'S_1_6': (1, 6),\n",
       "  'S_1_7': (1, 7),\n",
       "  'S_2_0': (2, 0),\n",
       "  'S_2_1': (2, 1),\n",
       "  'S_2_2': (2, 2),\n",
       "  'S_2_4': (2, 4),\n",
       "  'S_2_5': (2, 5),\n",
       "  'S_2_6': (2, 6),\n",
       "  'S_2_7': (2, 7),\n",
       "  'S_3_0': (3, 0),\n",
       "  'S_3_1': (3, 1),\n",
       "  'S_3_2': (3, 2),\n",
       "  'S_3_3': (3, 3),\n",
       "  'S_3_4': (3, 4),\n",
       "  'S_3_6': (3, 6),\n",
       "  'S_3_7': (3, 7),\n",
       "  'S_4_0': (4, 0),\n",
       "  'S_4_1': (4, 1),\n",
       "  'S_4_2': (4, 2),\n",
       "  'S_4_4': (4, 4),\n",
       "  'S_4_5': (4, 5),\n",
       "  'S_4_6': (4, 6),\n",
       "  'S_4_7': (4, 7),\n",
       "  'S_5_0': (5, 0),\n",
       "  'S_5_3': (5, 3),\n",
       "  'S_5_4': (5, 4),\n",
       "  'S_5_5': (5, 5),\n",
       "  'S_5_7': (5, 7),\n",
       "  'S_6_0': (6, 0),\n",
       "  'S_6_2': (6, 2),\n",
       "  'S_6_3': (6, 3),\n",
       "  'S_6_5': (6, 5),\n",
       "  'S_6_7': (6, 7),\n",
       "  'S_7_0': (7, 0),\n",
       "  'S_7_1': (7, 1),\n",
       "  'S_7_2': (7, 2),\n",
       "  'S_7_4': (7, 4),\n",
       "  'S_7_5': (7, 5),\n",
       "  'S_7_6': (7, 6),\n",
       "  'S_7_7': (7, 7)},\n",
       " {'S_0_0': {'S_1_0': 1, 'S_0_1': 1},\n",
       "  'S_0_1': {'S_1_1': 1, 'S_0_2': 1, 'S_0_0': 1},\n",
       "  'S_0_2': {'S_1_2': 1, 'S_0_3': 1, 'S_0_1': 1},\n",
       "  'S_0_3': {'S_1_3': 1, 'S_0_4': 1, 'S_0_2': 1},\n",
       "  'S_0_4': {'S_1_4': 1, 'S_0_5': 1, 'S_0_3': 1},\n",
       "  'S_0_5': {'S_1_5': 1, 'S_0_6': 1, 'S_0_4': 1},\n",
       "  'S_0_6': {'S_1_6': 1, 'S_0_7': 1, 'S_0_5': 1},\n",
       "  'S_0_7': {'S_1_7': 1, 'S_0_6': 1},\n",
       "  'S_1_0': {'S_0_0': 1, 'S_2_0': 1, 'S_1_1': 1},\n",
       "  'S_1_1': {'S_0_1': 1, 'S_2_1': 1, 'S_1_2': 1, 'S_1_0': 1},\n",
       "  'S_1_2': {'S_0_2': 1, 'S_2_2': 1, 'S_1_3': 1, 'S_1_1': 1},\n",
       "  'S_1_3': {'S_0_3': 1, 'S_1_4': 1, 'S_1_2': 1},\n",
       "  'S_1_4': {'S_0_4': 1, 'S_2_4': 1, 'S_1_5': 1, 'S_1_3': 1},\n",
       "  'S_1_5': {'S_0_5': 1, 'S_2_5': 1, 'S_1_6': 1, 'S_1_4': 1},\n",
       "  'S_1_6': {'S_0_6': 1, 'S_2_6': 1, 'S_1_7': 1, 'S_1_5': 1},\n",
       "  'S_1_7': {'S_0_7': 1, 'S_2_7': 1, 'S_1_6': 1},\n",
       "  'S_2_0': {'S_1_0': 1, 'S_3_0': 1, 'S_2_1': 1},\n",
       "  'S_2_1': {'S_1_1': 1, 'S_3_1': 1, 'S_2_2': 1, 'S_2_0': 1},\n",
       "  'S_2_2': {'S_1_2': 1, 'S_3_2': 1, 'S_2_1': 1},\n",
       "  'S_2_4': {'S_1_4': 1, 'S_3_4': 1, 'S_2_5': 1},\n",
       "  'S_2_5': {'S_1_5': 1, 'S_2_6': 1, 'S_2_4': 1},\n",
       "  'S_2_6': {'S_1_6': 1, 'S_3_6': 1, 'S_2_7': 1, 'S_2_5': 1},\n",
       "  'S_2_7': {'S_1_7': 1, 'S_3_7': 1, 'S_2_6': 1},\n",
       "  'S_3_0': {'S_2_0': 1, 'S_4_0': 1, 'S_3_1': 1},\n",
       "  'S_3_1': {'S_2_1': 1, 'S_4_1': 1, 'S_3_2': 1, 'S_3_0': 1},\n",
       "  'S_3_2': {'S_2_2': 1, 'S_4_2': 1, 'S_3_3': 1, 'S_3_1': 1},\n",
       "  'S_3_3': {'S_3_4': 1, 'S_3_2': 1},\n",
       "  'S_3_4': {'S_2_4': 1, 'S_4_4': 1, 'S_3_3': 1},\n",
       "  'S_3_6': {'S_2_6': 1, 'S_4_6': 1, 'S_3_7': 1},\n",
       "  'S_3_7': {'S_2_7': 1, 'S_4_7': 1, 'S_3_6': 1},\n",
       "  'S_4_0': {'S_3_0': 1, 'S_5_0': 1, 'S_4_1': 1},\n",
       "  'S_4_1': {'S_3_1': 1, 'S_4_2': 1, 'S_4_0': 1},\n",
       "  'S_4_2': {'S_3_2': 1, 'S_4_1': 1},\n",
       "  'S_4_4': {'S_3_4': 1, 'S_5_4': 1, 'S_4_5': 1},\n",
       "  'S_4_5': {'S_5_5': 1, 'S_4_6': 1, 'S_4_4': 1},\n",
       "  'S_4_6': {'S_3_6': 1, 'S_4_7': 1, 'S_4_5': 1},\n",
       "  'S_4_7': {'S_3_7': 1, 'S_5_7': 1, 'S_4_6': 1},\n",
       "  'S_5_0': {'S_4_0': 1, 'S_6_0': 1},\n",
       "  'S_5_3': {'S_6_3': 1, 'S_5_4': 1},\n",
       "  'S_5_4': {'S_4_4': 1, 'S_5_5': 1, 'S_5_3': 1},\n",
       "  'S_5_5': {'S_4_5': 1, 'S_6_5': 1, 'S_5_4': 1},\n",
       "  'S_5_7': {'S_4_7': 1, 'S_6_7': 1},\n",
       "  'S_6_0': {'S_5_0': 1, 'S_7_0': 1},\n",
       "  'S_6_2': {'S_7_2': 1, 'S_6_3': 1},\n",
       "  'S_6_3': {'S_5_3': 1, 'S_6_2': 1},\n",
       "  'S_6_5': {'S_5_5': 1, 'S_7_5': 1},\n",
       "  'S_6_7': {'S_5_7': 1, 'S_7_7': 1},\n",
       "  'S_7_0': {'S_6_0': 1, 'S_7_1': 1},\n",
       "  'S_7_1': {'S_7_2': 1, 'S_7_0': 1},\n",
       "  'S_7_2': {'S_6_2': 1, 'S_7_1': 1},\n",
       "  'S_7_4': {'S_7_5': 1},\n",
       "  'S_7_5': {'S_6_5': 1, 'S_7_6': 1, 'S_7_4': 1},\n",
       "  'S_7_6': {'S_7_7': 1, 'S_7_5': 1},\n",
       "  'S_7_7': {'S_6_7': 1, 'S_7_6': 1}},\n",
       " 'S_0_0',\n",
       " 'S_7_7')"
      ]
     },
     "execution_count": 109,
     "metadata": {},
     "output_type": "execute_result"
    }
   ],
   "source": [
    "# Ouput so we can validate the representation\n",
    "state_space_locations, state_space_actions, state_initial_id, state_goal_id"
   ]
  },
  {
   "cell_type": "code",
   "execution_count": 110,
   "metadata": {},
   "outputs": [
    {
     "name": "stdout",
     "output_type": "stream",
     "text": [
      "----------------------------------------\n",
      "Identified goal state:<Node S_7_7>\n",
      "----------------------------------------\n",
      "Solution trace:[<Node S_7_7>, <Node S_6_7>, <Node S_5_7>, <Node S_4_7>, <Node S_3_7>, <Node S_2_7>, <Node S_1_7>, <Node S_0_7>, <Node S_0_6>, <Node S_0_5>, <Node S_0_4>, <Node S_0_3>, <Node S_0_2>, <Node S_0_1>, <Node S_0_0>]\n",
      "----------------------------------------\n"
     ]
    }
   ],
   "source": [
    "# Insert the solution here to find and output the solution using A-star\n",
    "frozen_map = UndirectedGraph(state_space_actions)\n",
    "frozen_problem = GraphProblem('S_0_0', 'S_7_7', frozen_map)\n",
    "all_node_colors=[]\n",
    "iterations, all_node_colors, node = my_astar_search_graph(problem=frozen_problem, h=None)\n",
    "\n",
    "#-- Trace the solution --#\n",
    "solution_path = [node]\n",
    "cnode = node.parent\n",
    "solution_path.append(cnode)\n",
    "while cnode.state != 'S_0_0':    \n",
    "    cnode = cnode.parent  \n",
    "    solution_path.append(cnode)\n",
    "\n",
    "print(\"----------------------------------------\")\n",
    "print(\"Identified goal state:\"+str(solution_path[0]))\n",
    "print(\"----------------------------------------\")\n",
    "print(\"Solution trace:\"+str(solution_path))\n",
    "print(\"----------------------------------------\")"
   ]
  },
  {
   "cell_type": "code",
   "execution_count": 111,
   "metadata": {},
   "outputs": [
    {
     "data": {
      "text/plain": [
       "{'S_0_0': (0, 0),\n",
       " 'S_0_1': (0, 1),\n",
       " 'S_0_2': (0, 2),\n",
       " 'S_0_3': (0, 3),\n",
       " 'S_0_4': (0, 4),\n",
       " 'S_0_5': (0, 5),\n",
       " 'S_0_6': (0, 6),\n",
       " 'S_0_7': (0, 7),\n",
       " 'S_1_0': (1, 0),\n",
       " 'S_1_1': (1, 1),\n",
       " 'S_1_2': (1, 2),\n",
       " 'S_1_3': (1, 3),\n",
       " 'S_1_4': (1, 4),\n",
       " 'S_1_5': (1, 5),\n",
       " 'S_1_6': (1, 6),\n",
       " 'S_1_7': (1, 7),\n",
       " 'S_2_0': (2, 0),\n",
       " 'S_2_1': (2, 1),\n",
       " 'S_2_2': (2, 2),\n",
       " 'S_2_4': (2, 4),\n",
       " 'S_2_5': (2, 5),\n",
       " 'S_2_6': (2, 6),\n",
       " 'S_2_7': (2, 7),\n",
       " 'S_3_0': (3, 0),\n",
       " 'S_3_1': (3, 1),\n",
       " 'S_3_2': (3, 2),\n",
       " 'S_3_3': (3, 3),\n",
       " 'S_3_4': (3, 4),\n",
       " 'S_3_6': (3, 6),\n",
       " 'S_3_7': (3, 7),\n",
       " 'S_4_0': (4, 0),\n",
       " 'S_4_1': (4, 1),\n",
       " 'S_4_2': (4, 2),\n",
       " 'S_4_4': (4, 4),\n",
       " 'S_4_5': (4, 5),\n",
       " 'S_4_6': (4, 6),\n",
       " 'S_4_7': (4, 7),\n",
       " 'S_5_0': (5, 0),\n",
       " 'S_5_3': (5, 3),\n",
       " 'S_5_4': (5, 4),\n",
       " 'S_5_5': (5, 5),\n",
       " 'S_5_7': (5, 7),\n",
       " 'S_6_0': (6, 0),\n",
       " 'S_6_2': (6, 2),\n",
       " 'S_6_3': (6, 3),\n",
       " 'S_6_5': (6, 5),\n",
       " 'S_6_7': (6, 7),\n",
       " 'S_7_0': (7, 0),\n",
       " 'S_7_1': (7, 1),\n",
       " 'S_7_2': (7, 2),\n",
       " 'S_7_4': (7, 4),\n",
       " 'S_7_5': (7, 5),\n",
       " 'S_7_6': (7, 6),\n",
       " 'S_7_7': (7, 7)}"
      ]
     },
     "execution_count": 111,
     "metadata": {},
     "output_type": "execute_result"
    }
   ],
   "source": [
    "state_space_locations"
   ]
  },
  {
   "cell_type": "markdown",
   "metadata": {},
   "source": [
    "----"
   ]
  },
  {
   "cell_type": "markdown",
   "metadata": {},
   "source": [
    "- <font color=dark-magenta>TASK:</font> Check that the solution found by A-star is correct and execute it in the Open AI Env.   "
   ]
  },
  {
   "cell_type": "code",
   "execution_count": 113,
   "metadata": {},
   "outputs": [
    {
     "name": "stdout",
     "output_type": "stream",
     "text": [
      "::: Full Visualization ::::\n"
     ]
    },
    {
     "data": {
      "application/vnd.jupyter.widget-view+json": {
       "model_id": "55c18f22779c45cbadd51147bbae28ed",
       "version_major": 2,
       "version_minor": 0
      },
      "text/plain": [
       "interactive(children=(IntSlider(value=0, description='iteration', max=1), Output()), _dom_classes=('widget-int…"
      ]
     },
     "metadata": {},
     "output_type": "display_data"
    },
    {
     "data": {
      "application/vnd.jupyter.widget-view+json": {
       "model_id": "756b6ebe597d4d78ba6c29ed6ec67ffa",
       "version_major": 2,
       "version_minor": 0
      },
      "text/plain": [
       "interactive(children=(ToggleButton(value=False, description='Visualize'), Output()), _dom_classes=('widget-int…"
      ]
     },
     "metadata": {},
     "output_type": "display_data"
    }
   ],
   "source": [
    "# Insert the solution here; note this will be several lines of code (10-20)\n",
    "frozen_map.locations = state_space_locations\n",
    "\n",
    "node_colors = {node: 'white' for node in frozen_map.locations.keys()}\n",
    "node_positions = frozen_map.locations\n",
    "node_label_pos = { k:[v[0],v[1]-10]  for k,v in frozen_map.locations.items() }\n",
    "edge_weights = {(k, k2) : v2 for k, v in frozen_map.graph_dict.items() for k2, v2 in v.items()}\n",
    "\n",
    "frozen_map_data = {  'graph_dict' : frozen_map.graph_dict,\n",
    "                        'node_colors': node_colors,\n",
    "                        'node_positions': node_positions,\n",
    "                        'node_label_positions': node_label_pos,\n",
    "                         'edge_weights': edge_weights\n",
    "                     }\n",
    "\n",
    "do_full_visualization = True\n",
    "if do_full_visualization:     \n",
    "    # WARNING the FULL visualisation might not work very well on some computers due to \n",
    "    # the large graph and the many iterations required.The visualisaiton will \n",
    "    # typically compute the solution and do the plotting at the end - and it often takes a long time ...\n",
    "    #\n",
    "    print(\"::: Full Visualization ::::\")\n",
    "    all_node_colors = []        \n",
    "    display_visual(frozen_map_data, user_input=False, \n",
    "               algorithm=my_astar_search_graph, \n",
    "               problem=frozen_problem)"
   ]
  },
  {
   "cell_type": "markdown",
   "metadata": {},
   "source": [
    "---"
   ]
  },
  {
   "cell_type": "code",
   "execution_count": null,
   "metadata": {},
   "outputs": [],
   "source": []
  },
  {
   "cell_type": "code",
   "execution_count": null,
   "metadata": {},
   "outputs": [],
   "source": []
  }
 ],
 "metadata": {
  "anaconda-cloud": {},
  "kernelspec": {
   "display_name": "Python 3",
   "language": "python",
   "name": "python3"
  },
  "language_info": {
   "codemirror_mode": {
    "name": "ipython",
    "version": 3
   },
   "file_extension": ".py",
   "mimetype": "text/x-python",
   "name": "python",
   "nbconvert_exporter": "python",
   "pygments_lexer": "ipython3",
   "version": "3.6.5"
  },
  "pycharm": {
   "stem_cell": {
    "cell_type": "raw",
    "metadata": {
     "collapsed": false
    },
    "source": []
   }
  },
  "widgets": {
   "state": {
    "1165590537ad42319be0fd672ba93fcf": {
     "views": [
      {
       "cell_index": 70
      }
     ]
    },
    "218bb03559334f53865f3c549687947f": {
     "views": [
      {
       "cell_index": 70
      }
     ]
    },
    "2da45e0a19e245e9a3766718bc868d68": {
     "views": [
      {
       "cell_index": 70
      }
     ]
    },
    "2e1f54660c9d49d0bd59d8783505c928": {
     "views": [
      {
       "cell_index": 73
      }
     ]
    },
    "388748b8801742c38b9efbd0f572e255": {
     "views": [
      {
       "cell_index": 70
      }
     ]
    },
    "3aa93a0d80464011866fbce0ab9c6847": {
     "views": [
      {
       "cell_index": 70
      }
     ]
    },
    "3b7f6cf85b15420182f027cefdbb4e41": {
     "views": [
      {
       "cell_index": 70
      }
     ]
    },
    "3ccc236121f746219ee914dd4eaf7745": {
     "views": [
      {
       "cell_index": 69
      }
     ]
    },
    "56e20e7ebc6b49c7a27f57bddb9d0d03": {
     "views": [
      {
       "cell_index": 70
      }
     ]
    },
    "572cff82823345058557962a93c21b14": {
     "views": [
      {
       "cell_index": 69
      }
     ]
    },
    "5e87b7cb75714dd9a3528f54bf26a330": {
     "views": [
      {
       "cell_index": 70
      }
     ]
    },
    "63f3739d2b8b499ab2e93ff9b98d2cd7": {
     "views": [
      {
       "cell_index": 74
      }
     ]
    },
    "6d4f09551948409ab609dd0ba0f80042": {
     "views": [
      {
       "cell_index": 70
      }
     ]
    },
    "7fa3698b72794594b321f1173c5334a1": {
     "views": [
      {
       "cell_index": 70
      }
     ]
    },
    "9df03dfad39b4a5ca5ded7be8afd4e3c": {
     "views": [
      {
       "cell_index": 73
      }
     ]
    },
    "a0f16426957b477bb254ed9909be63d1": {
     "views": [
      {
       "cell_index": 70
      }
     ]
    },
    "b406cc83e6fc4a4b932c7a120fb1149c": {
     "views": [
      {
       "cell_index": 75
      }
     ]
    },
    "c700f1455a714b1c9407172f8a5cbd88": {
     "views": [
      {
       "cell_index": 65
      }
     ]
    },
    "cca4938ba56444c386666cf90477abaa": {
     "views": [
      {
       "cell_index": 70
      }
     ]
    },
    "d2ae94a64b914cb38f8e714bd9701d97": {
     "views": [
      {
       "cell_index": 70
      }
     ]
    },
    "e2aeb79eea344a58a969b2963578f355": {
     "views": [
      {
       "cell_index": 75
      }
     ]
    },
    "e30b4000d76449d8bf0614226915668d": {
     "views": [
      {
       "cell_index": 70
      }
     ]
    },
    "e405328e5ad34d04b42a6ddfc22d6730": {
     "views": [
      {
       "cell_index": 70
      }
     ]
    },
    "fa3e57a2fcfb4302b47b0992eddc7063": {
     "views": [
      {
       "cell_index": 69
      }
     ]
    }
   },
   "version": "1.2.0"
  }
 },
 "nbformat": 4,
 "nbformat_minor": 1
}
